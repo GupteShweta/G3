{
 "cells": [
  {
   "cell_type": "code",
   "execution_count": 1,
   "metadata": {},
   "outputs": [],
   "source": [
    "import pandas as pd                                                 "
   ]
  },
  {
   "cell_type": "code",
   "execution_count": 2,
   "metadata": {},
   "outputs": [],
   "source": [
    "## Load datasets\n",
    "data=pd.read_csv('C:\\\\Users\\\\shwet\\\\OneDrive\\\\Documents\\\\OnlineCourses\\\\insaid\\\\ghouls-goblins-and-ghosts-boo\\\\train.csv\\\\train.csv')\n",
    "data_test=pd.read_csv('C:\\\\Users\\\\shwet\\\\OneDrive\\\\Documents\\\\OnlineCourses\\\\insaid\\\\ghouls-goblins-and-ghosts-boo\\\\test.csv\\\\test.csv')\n"
   ]
  },
  {
   "cell_type": "code",
   "execution_count": 3,
   "metadata": {},
   "outputs": [
    {
     "data": {
      "text/html": [
       "<div>\n",
       "<style scoped>\n",
       "    .dataframe tbody tr th:only-of-type {\n",
       "        vertical-align: middle;\n",
       "    }\n",
       "\n",
       "    .dataframe tbody tr th {\n",
       "        vertical-align: top;\n",
       "    }\n",
       "\n",
       "    .dataframe thead th {\n",
       "        text-align: right;\n",
       "    }\n",
       "</style>\n",
       "<table border=\"1\" class=\"dataframe\">\n",
       "  <thead>\n",
       "    <tr style=\"text-align: right;\">\n",
       "      <th></th>\n",
       "      <th>id</th>\n",
       "      <th>bone_length</th>\n",
       "      <th>rotting_flesh</th>\n",
       "      <th>hair_length</th>\n",
       "      <th>has_soul</th>\n",
       "      <th>color</th>\n",
       "      <th>type</th>\n",
       "    </tr>\n",
       "  </thead>\n",
       "  <tbody>\n",
       "    <tr>\n",
       "      <th>0</th>\n",
       "      <td>0</td>\n",
       "      <td>0.354512</td>\n",
       "      <td>0.350839</td>\n",
       "      <td>0.465761</td>\n",
       "      <td>0.781142</td>\n",
       "      <td>clear</td>\n",
       "      <td>Ghoul</td>\n",
       "    </tr>\n",
       "    <tr>\n",
       "      <th>1</th>\n",
       "      <td>1</td>\n",
       "      <td>0.575560</td>\n",
       "      <td>0.425868</td>\n",
       "      <td>0.531401</td>\n",
       "      <td>0.439899</td>\n",
       "      <td>green</td>\n",
       "      <td>Goblin</td>\n",
       "    </tr>\n",
       "    <tr>\n",
       "      <th>2</th>\n",
       "      <td>2</td>\n",
       "      <td>0.467875</td>\n",
       "      <td>0.354330</td>\n",
       "      <td>0.811616</td>\n",
       "      <td>0.791225</td>\n",
       "      <td>black</td>\n",
       "      <td>Ghoul</td>\n",
       "    </tr>\n",
       "    <tr>\n",
       "      <th>3</th>\n",
       "      <td>4</td>\n",
       "      <td>0.776652</td>\n",
       "      <td>0.508723</td>\n",
       "      <td>0.636766</td>\n",
       "      <td>0.884464</td>\n",
       "      <td>black</td>\n",
       "      <td>Ghoul</td>\n",
       "    </tr>\n",
       "    <tr>\n",
       "      <th>4</th>\n",
       "      <td>5</td>\n",
       "      <td>0.566117</td>\n",
       "      <td>0.875862</td>\n",
       "      <td>0.418594</td>\n",
       "      <td>0.636438</td>\n",
       "      <td>green</td>\n",
       "      <td>Ghost</td>\n",
       "    </tr>\n",
       "  </tbody>\n",
       "</table>\n",
       "</div>"
      ],
      "text/plain": [
       "   id  bone_length  rotting_flesh  hair_length  has_soul  color    type\n",
       "0   0     0.354512       0.350839     0.465761  0.781142  clear   Ghoul\n",
       "1   1     0.575560       0.425868     0.531401  0.439899  green  Goblin\n",
       "2   2     0.467875       0.354330     0.811616  0.791225  black   Ghoul\n",
       "3   4     0.776652       0.508723     0.636766  0.884464  black   Ghoul\n",
       "4   5     0.566117       0.875862     0.418594  0.636438  green   Ghost"
      ]
     },
     "execution_count": 3,
     "metadata": {},
     "output_type": "execute_result"
    }
   ],
   "source": [
    "## Inspect dataset\n",
    "data.head()"
   ]
  },
  {
   "cell_type": "code",
   "execution_count": 21,
   "metadata": {},
   "outputs": [
    {
     "name": "stdout",
     "output_type": "stream",
     "text": [
      "id                 0\n",
      "bone_length        0\n",
      "rotting_flesh      0\n",
      "hair_length        0\n",
      "has_soul           0\n",
      "color              0\n",
      "type               0\n",
      "Indicator_blue     0\n",
      "Indicator_clear    0\n",
      "Indicator_black    0\n",
      "Indicator_blood    0\n",
      "Indicator_green    0\n",
      "Indicator_white    0\n",
      "dtype: int64\n",
      "id                 0\n",
      "bone_length        0\n",
      "rotting_flesh      0\n",
      "hair_length        0\n",
      "has_soul           0\n",
      "color              0\n",
      "Indicator_blue     0\n",
      "Indicator_clear    0\n",
      "Indicator_black    0\n",
      "Indicator_blood    0\n",
      "Indicator_green    0\n",
      "Indicator_white    0\n",
      "dtype: int64\n"
     ]
    }
   ],
   "source": [
    "############################\n",
    "#Finding missing values\n",
    "#no missing values found\n",
    "###########################3\n",
    "print(data.isnull().sum())\n",
    "print(data_test.isnull().sum())"
   ]
  },
  {
   "cell_type": "code",
   "execution_count": 4,
   "metadata": {},
   "outputs": [],
   "source": [
    "from sklearn.linear_model import LogisticRegression\n"
   ]
  },
  {
   "cell_type": "code",
   "execution_count": 22,
   "metadata": {},
   "outputs": [
    {
     "data": {
      "text/html": [
       "<div>\n",
       "<style scoped>\n",
       "    .dataframe tbody tr th:only-of-type {\n",
       "        vertical-align: middle;\n",
       "    }\n",
       "\n",
       "    .dataframe tbody tr th {\n",
       "        vertical-align: top;\n",
       "    }\n",
       "\n",
       "    .dataframe thead th {\n",
       "        text-align: right;\n",
       "    }\n",
       "</style>\n",
       "<table border=\"1\" class=\"dataframe\">\n",
       "  <thead>\n",
       "    <tr style=\"text-align: right;\">\n",
       "      <th></th>\n",
       "      <th>bone_length</th>\n",
       "      <th>rotting_flesh</th>\n",
       "      <th>hair_length</th>\n",
       "      <th>has_soul</th>\n",
       "      <th>Indicator_blue</th>\n",
       "      <th>Indicator_clear</th>\n",
       "      <th>Indicator_black</th>\n",
       "      <th>Indicator_blood</th>\n",
       "      <th>Indicator_green</th>\n",
       "      <th>Indicator_white</th>\n",
       "    </tr>\n",
       "  </thead>\n",
       "  <tbody>\n",
       "    <tr>\n",
       "      <th>0</th>\n",
       "      <td>0.354512</td>\n",
       "      <td>0.350839</td>\n",
       "      <td>0.465761</td>\n",
       "      <td>0.781142</td>\n",
       "      <td>0</td>\n",
       "      <td>1</td>\n",
       "      <td>0</td>\n",
       "      <td>0</td>\n",
       "      <td>0</td>\n",
       "      <td>0</td>\n",
       "    </tr>\n",
       "    <tr>\n",
       "      <th>1</th>\n",
       "      <td>0.575560</td>\n",
       "      <td>0.425868</td>\n",
       "      <td>0.531401</td>\n",
       "      <td>0.439899</td>\n",
       "      <td>0</td>\n",
       "      <td>0</td>\n",
       "      <td>0</td>\n",
       "      <td>0</td>\n",
       "      <td>1</td>\n",
       "      <td>0</td>\n",
       "    </tr>\n",
       "    <tr>\n",
       "      <th>2</th>\n",
       "      <td>0.467875</td>\n",
       "      <td>0.354330</td>\n",
       "      <td>0.811616</td>\n",
       "      <td>0.791225</td>\n",
       "      <td>0</td>\n",
       "      <td>0</td>\n",
       "      <td>1</td>\n",
       "      <td>0</td>\n",
       "      <td>0</td>\n",
       "      <td>0</td>\n",
       "    </tr>\n",
       "    <tr>\n",
       "      <th>3</th>\n",
       "      <td>0.776652</td>\n",
       "      <td>0.508723</td>\n",
       "      <td>0.636766</td>\n",
       "      <td>0.884464</td>\n",
       "      <td>0</td>\n",
       "      <td>0</td>\n",
       "      <td>1</td>\n",
       "      <td>0</td>\n",
       "      <td>0</td>\n",
       "      <td>0</td>\n",
       "    </tr>\n",
       "    <tr>\n",
       "      <th>4</th>\n",
       "      <td>0.566117</td>\n",
       "      <td>0.875862</td>\n",
       "      <td>0.418594</td>\n",
       "      <td>0.636438</td>\n",
       "      <td>0</td>\n",
       "      <td>0</td>\n",
       "      <td>0</td>\n",
       "      <td>0</td>\n",
       "      <td>1</td>\n",
       "      <td>0</td>\n",
       "    </tr>\n",
       "  </tbody>\n",
       "</table>\n",
       "</div>"
      ],
      "text/plain": [
       "   bone_length  rotting_flesh  hair_length  has_soul  Indicator_blue  \\\n",
       "0     0.354512       0.350839     0.465761  0.781142               0   \n",
       "1     0.575560       0.425868     0.531401  0.439899               0   \n",
       "2     0.467875       0.354330     0.811616  0.791225               0   \n",
       "3     0.776652       0.508723     0.636766  0.884464               0   \n",
       "4     0.566117       0.875862     0.418594  0.636438               0   \n",
       "\n",
       "   Indicator_clear  Indicator_black  Indicator_blood  Indicator_green  \\\n",
       "0                1                0                0                0   \n",
       "1                0                0                0                1   \n",
       "2                0                1                0                0   \n",
       "3                0                1                0                0   \n",
       "4                0                0                0                1   \n",
       "\n",
       "   Indicator_white  \n",
       "0                0  \n",
       "1                0  \n",
       "2                0  \n",
       "3                0  \n",
       "4                0  "
      ]
     },
     "execution_count": 22,
     "metadata": {},
     "output_type": "execute_result"
    }
   ],
   "source": [
    "### The color variable is string so it has to be made into factor or indicator variable\n",
    "### This is one hot encodeing\n",
    "s1=set(data[\"color\"])\n",
    "#print(s1)\n",
    "\n",
    "data[\"Indicator_blue\"] = 1*(data[\"color\"]=='blue')\n",
    "data[\"Indicator_clear\"] = 1*(data[\"color\"]=='clear')\n",
    "data[\"Indicator_black\"] = 1*(data[\"color\"]=='black')\n",
    "data[\"Indicator_blood\"] = 1*(data[\"color\"]=='blood')\n",
    "data[\"Indicator_green\"] = 1*(data[\"color\"]=='green')\n",
    "data[\"Indicator_white\"] = 1*(data[\"color\"]=='white')\n",
    "\n",
    "X=data[[\"bone_length\",\"rotting_flesh\",\"hair_length\",\"has_soul\",\"Indicator_blue\",\"Indicator_clear\",\"Indicator_black\",\"Indicator_blood\",\"Indicator_green\",\"Indicator_white\"]]\n",
    "\n",
    "Y=data[[\"type\"]]\n",
    "X.head()\n"
   ]
  },
  {
   "cell_type": "code",
   "execution_count": 6,
   "metadata": {},
   "outputs": [],
   "source": [
    "### Import functions for train and test set creation\n",
    "\n",
    "import numpy as np\n",
    "from sklearn.model_selection import train_test_split"
   ]
  },
  {
   "cell_type": "code",
   "execution_count": 7,
   "metadata": {},
   "outputs": [],
   "source": [
    "## Create train and test set\n",
    "X_train1, X_test1, Y_train1, Y_test1 = train_test_split(X, Y, test_size=0.33, random_state=42)"
   ]
  },
  {
   "cell_type": "code",
   "execution_count": 8,
   "metadata": {},
   "outputs": [
    {
     "name": "stderr",
     "output_type": "stream",
     "text": [
      "C:\\Users\\shwet\\Anaconda3\\lib\\site-packages\\sklearn\\linear_model\\logistic.py:432: FutureWarning: Default solver will be changed to 'lbfgs' in 0.22. Specify a solver to silence this warning.\n",
      "  FutureWarning)\n",
      "C:\\Users\\shwet\\Anaconda3\\lib\\site-packages\\sklearn\\utils\\validation.py:724: DataConversionWarning: A column-vector y was passed when a 1d array was expected. Please change the shape of y to (n_samples, ), for example using ravel().\n",
      "  y = column_or_1d(y, warn=True)\n",
      "C:\\Users\\shwet\\Anaconda3\\lib\\site-packages\\sklearn\\linear_model\\logistic.py:469: FutureWarning: Default multi_class will be changed to 'auto' in 0.22. Specify the multi_class option to silence this warning.\n",
      "  \"this warning.\", FutureWarning)\n"
     ]
    }
   ],
   "source": [
    "## Fit logistic regression - multinomial logit\n",
    "\n",
    "clf = LogisticRegression(random_state=0).fit(X_train1, Y_train1)\n",
    "preds1=clf.predict(X_test1)"
   ]
  },
  {
   "cell_type": "code",
   "execution_count": 9,
   "metadata": {},
   "outputs": [
    {
     "data": {
      "text/plain": [
       "0.6991869918699187"
      ]
     },
     "execution_count": 9,
     "metadata": {},
     "output_type": "execute_result"
    }
   ],
   "source": [
    "## Find percent correctly indentified/classified\n",
    "\n",
    "from sklearn.metrics import accuracy_score\n",
    "accuracy_score(Y_test1, preds1)"
   ]
  },
  {
   "cell_type": "code",
   "execution_count": 10,
   "metadata": {},
   "outputs": [
    {
     "name": "stderr",
     "output_type": "stream",
     "text": [
      "C:\\Users\\shwet\\Anaconda3\\lib\\site-packages\\sklearn\\linear_model\\logistic.py:432: FutureWarning: Default solver will be changed to 'lbfgs' in 0.22. Specify a solver to silence this warning.\n",
      "  FutureWarning)\n",
      "C:\\Users\\shwet\\Anaconda3\\lib\\site-packages\\sklearn\\utils\\validation.py:724: DataConversionWarning: A column-vector y was passed when a 1d array was expected. Please change the shape of y to (n_samples, ), for example using ravel().\n",
      "  y = column_or_1d(y, warn=True)\n",
      "C:\\Users\\shwet\\Anaconda3\\lib\\site-packages\\sklearn\\linear_model\\logistic.py:469: FutureWarning: Default multi_class will be changed to 'auto' in 0.22. Specify the multi_class option to silence this warning.\n",
      "  \"this warning.\", FutureWarning)\n"
     ]
    },
    {
     "data": {
      "text/plain": [
       "0.7317073170731707"
      ]
     },
     "execution_count": 10,
     "metadata": {},
     "output_type": "execute_result"
    }
   ],
   "source": [
    "### L1 penalty regularized logistic regression\n",
    "### Find accuracy\n",
    "## This gives more accuracy\n",
    "\n",
    "clf1 = LogisticRegression(random_state=0,penalty='l1').fit(X_train1, Y_train1)\n",
    "preds2=clf1.predict(X_test1)\n",
    "accuracy_score(Y_test1, preds2)"
   ]
  },
  {
   "cell_type": "code",
   "execution_count": 11,
   "metadata": {},
   "outputs": [
    {
     "data": {
      "text/plain": [
       "0.7073170731707317"
      ]
     },
     "execution_count": 11,
     "metadata": {},
     "output_type": "execute_result"
    }
   ],
   "source": [
    "import numpy\n",
    "## Random forest model\n",
    "#Import Random Forest Model\n",
    "from sklearn.ensemble import RandomForestClassifier\n",
    "\n",
    "#Create a Gaussian Classifier\n",
    "clf=RandomForestClassifier(n_estimators=100)\n",
    "\n",
    "Y2_train=numpy.ravel(Y_train1)\n",
    "clf.fit(X_train1,Y2_train)\n",
    "\n",
    "preds3=clf.predict(X_test1)\n",
    "accuracy_score(Y_test1, preds3)"
   ]
  },
  {
   "cell_type": "code",
   "execution_count": 12,
   "metadata": {},
   "outputs": [
    {
     "name": "stderr",
     "output_type": "stream",
     "text": [
      "C:\\Users\\shwet\\Anaconda3\\lib\\site-packages\\sklearn\\linear_model\\logistic.py:432: FutureWarning: Default solver will be changed to 'lbfgs' in 0.22. Specify a solver to silence this warning.\n",
      "  FutureWarning)\n",
      "C:\\Users\\shwet\\Anaconda3\\lib\\site-packages\\sklearn\\utils\\validation.py:724: DataConversionWarning: A column-vector y was passed when a 1d array was expected. Please change the shape of y to (n_samples, ), for example using ravel().\n",
      "  y = column_or_1d(y, warn=True)\n",
      "C:\\Users\\shwet\\Anaconda3\\lib\\site-packages\\sklearn\\linear_model\\logistic.py:469: FutureWarning: Default multi_class will be changed to 'auto' in 0.22. Specify the multi_class option to silence this warning.\n",
      "  \"this warning.\", FutureWarning)\n"
     ]
    }
   ],
   "source": [
    "#### Regularized logistic regression l1 penalty gives highest accuracy so using it for classification\n",
    "\n",
    "clf = LogisticRegression(random_state=0,penalty='l1').fit(X, Y)"
   ]
  },
  {
   "cell_type": "code",
   "execution_count": 13,
   "metadata": {},
   "outputs": [
    {
     "data": {
      "text/plain": [
       "array(['Goblin', 'Goblin', 'Ghoul', 'Ghoul', 'Ghost', 'Goblin', 'Ghoul',\n",
       "       'Ghoul', 'Ghost', 'Ghost', 'Ghost', 'Ghoul', 'Ghoul', 'Goblin',\n",
       "       'Ghoul', 'Ghoul', 'Goblin', 'Ghoul', 'Ghoul', 'Ghost', 'Goblin',\n",
       "       'Goblin', 'Goblin', 'Goblin', 'Ghoul', 'Ghost', 'Goblin', 'Ghoul',\n",
       "       'Goblin', 'Goblin', 'Ghost', 'Ghost', 'Ghoul', 'Goblin', 'Ghoul',\n",
       "       'Ghost', 'Ghost', 'Ghoul', 'Ghoul', 'Ghost', 'Ghoul', 'Ghost',\n",
       "       'Ghost', 'Ghost', 'Goblin', 'Ghost', 'Ghoul', 'Ghost', 'Ghost',\n",
       "       'Goblin', 'Ghoul', 'Ghoul', 'Ghost', 'Ghost', 'Ghost', 'Ghoul',\n",
       "       'Ghost', 'Ghoul', 'Ghost', 'Ghoul', 'Goblin', 'Ghost', 'Ghoul',\n",
       "       'Ghost', 'Ghoul', 'Ghost', 'Ghost', 'Ghoul', 'Ghost', 'Goblin',\n",
       "       'Ghoul', 'Ghost', 'Ghost', 'Ghoul', 'Ghoul', 'Goblin', 'Goblin',\n",
       "       'Ghost', 'Ghoul', 'Ghoul', 'Ghost', 'Ghost', 'Ghost', 'Ghoul',\n",
       "       'Ghost', 'Goblin', 'Ghoul', 'Ghost', 'Ghoul', 'Ghoul', 'Ghost',\n",
       "       'Ghoul', 'Goblin', 'Ghoul', 'Goblin', 'Goblin', 'Ghost', 'Goblin',\n",
       "       'Goblin', 'Ghost', 'Ghost', 'Ghost', 'Ghost', 'Goblin', 'Goblin',\n",
       "       'Ghost', 'Ghoul', 'Ghost', 'Goblin', 'Ghoul', 'Ghost', 'Goblin',\n",
       "       'Ghoul', 'Ghost', 'Goblin', 'Ghost', 'Ghost', 'Goblin', 'Ghost',\n",
       "       'Ghoul', 'Ghost', 'Goblin', 'Ghost', 'Ghoul', 'Ghoul', 'Ghost',\n",
       "       'Ghost', 'Ghost', 'Ghoul', 'Ghoul', 'Ghoul', 'Ghoul', 'Goblin',\n",
       "       'Ghoul', 'Ghoul', 'Ghoul', 'Goblin', 'Ghost', 'Goblin', 'Ghoul',\n",
       "       'Goblin', 'Goblin', 'Ghost', 'Ghoul', 'Ghoul', 'Ghost', 'Ghost',\n",
       "       'Goblin', 'Ghoul', 'Ghoul', 'Ghost', 'Ghost', 'Ghost', 'Ghoul',\n",
       "       'Ghost', 'Ghoul', 'Goblin', 'Ghoul', 'Ghost', 'Ghost', 'Ghost',\n",
       "       'Goblin', 'Ghoul', 'Ghoul', 'Ghoul', 'Ghoul', 'Ghoul', 'Ghost',\n",
       "       'Ghost', 'Ghost', 'Goblin', 'Ghost', 'Ghost', 'Ghost', 'Ghost',\n",
       "       'Ghost', 'Ghoul', 'Ghost', 'Goblin', 'Ghoul', 'Ghost', 'Ghost',\n",
       "       'Ghoul', 'Ghost', 'Ghoul', 'Ghoul', 'Ghost', 'Ghost', 'Ghost',\n",
       "       'Ghoul', 'Ghoul', 'Ghost', 'Ghoul', 'Ghost', 'Goblin', 'Ghost',\n",
       "       'Ghoul', 'Ghost', 'Ghost', 'Ghost', 'Ghoul', 'Ghoul', 'Goblin',\n",
       "       'Goblin', 'Ghost', 'Ghost', 'Ghoul', 'Ghoul', 'Goblin', 'Goblin',\n",
       "       'Ghoul', 'Ghoul', 'Goblin', 'Ghost', 'Ghoul', 'Ghoul', 'Ghoul',\n",
       "       'Ghost', 'Ghost', 'Ghoul', 'Ghost', 'Ghoul', 'Goblin', 'Goblin',\n",
       "       'Goblin', 'Ghoul', 'Ghoul', 'Ghoul', 'Ghost', 'Ghoul', 'Ghoul',\n",
       "       'Ghost', 'Ghoul', 'Ghoul', 'Goblin', 'Goblin', 'Goblin', 'Ghoul',\n",
       "       'Ghoul', 'Goblin', 'Ghoul', 'Ghoul', 'Ghost', 'Ghost', 'Ghost',\n",
       "       'Ghost', 'Ghost', 'Ghost', 'Goblin', 'Ghoul', 'Ghoul', 'Ghost',\n",
       "       'Ghost', 'Ghoul', 'Ghost', 'Goblin', 'Ghoul', 'Ghost', 'Ghoul',\n",
       "       'Goblin', 'Ghost', 'Ghost', 'Goblin', 'Goblin', 'Goblin', 'Ghost',\n",
       "       'Ghost', 'Goblin', 'Goblin', 'Goblin', 'Ghoul', 'Ghost', 'Ghost',\n",
       "       'Goblin', 'Ghoul', 'Ghost', 'Ghost', 'Ghost', 'Ghoul', 'Ghoul',\n",
       "       'Ghost', 'Ghoul', 'Goblin', 'Ghost', 'Ghoul', 'Ghost', 'Ghoul',\n",
       "       'Ghoul', 'Ghoul', 'Ghoul', 'Ghost', 'Ghoul', 'Goblin', 'Ghost',\n",
       "       'Ghoul', 'Ghoul', 'Goblin', 'Goblin', 'Ghoul', 'Ghost', 'Ghost',\n",
       "       'Ghoul', 'Ghost', 'Ghoul', 'Ghoul', 'Ghoul', 'Ghoul', 'Ghoul',\n",
       "       'Ghoul', 'Goblin', 'Ghoul', 'Goblin', 'Ghoul', 'Ghoul', 'Goblin',\n",
       "       'Ghoul', 'Ghoul', 'Goblin', 'Goblin', 'Ghoul', 'Goblin', 'Ghost',\n",
       "       'Ghost', 'Goblin', 'Ghoul', 'Ghoul', 'Ghoul', 'Ghoul', 'Ghost',\n",
       "       'Ghoul', 'Ghoul', 'Ghost', 'Ghoul', 'Goblin', 'Ghoul', 'Ghost',\n",
       "       'Ghost', 'Ghost', 'Ghoul', 'Ghoul', 'Goblin', 'Ghoul', 'Ghoul',\n",
       "       'Ghoul', 'Ghost', 'Ghoul', 'Goblin', 'Ghost', 'Ghoul', 'Ghoul',\n",
       "       'Goblin', 'Ghoul', 'Ghoul', 'Ghost', 'Ghost', 'Goblin', 'Goblin',\n",
       "       'Ghoul', 'Ghost', 'Goblin', 'Goblin', 'Ghoul', 'Goblin', 'Ghost',\n",
       "       'Ghoul', 'Ghoul', 'Ghoul', 'Ghoul', 'Goblin', 'Ghost', 'Ghoul'],\n",
       "      dtype=object)"
      ]
     },
     "execution_count": 13,
     "metadata": {},
     "output_type": "execute_result"
    }
   ],
   "source": [
    "clf.predict(X)"
   ]
  },
  {
   "cell_type": "code",
   "execution_count": 14,
   "metadata": {},
   "outputs": [],
   "source": [
    "data_test[\"Indicator_blue\"] = 1*(data_test[\"color\"]=='blue')\n",
    "data_test[\"Indicator_clear\"] = 1*(data_test[\"color\"]=='clear')\n",
    "data_test[\"Indicator_black\"] = 1*(data_test[\"color\"]=='black')\n",
    "data_test[\"Indicator_blood\"] = 1*(data_test[\"color\"]=='blood')\n",
    "data_test[\"Indicator_green\"] = 1*(data_test[\"color\"]=='green')\n",
    "data_test[\"Indicator_white\"] = 1*(data_test[\"color\"]=='white')\n"
   ]
  },
  {
   "cell_type": "code",
   "execution_count": 9,
   "metadata": {},
   "outputs": [],
   "source": []
  },
  {
   "cell_type": "code",
   "execution_count": 15,
   "metadata": {},
   "outputs": [
    {
     "data": {
      "text/plain": [
       "array(['Ghoul', 'Ghoul', 'Ghoul', 'Ghost', 'Ghost', 'Ghost', 'Ghoul',\n",
       "       'Ghoul', 'Goblin', 'Ghoul', 'Ghost', 'Ghoul', 'Goblin', 'Ghost',\n",
       "       'Ghoul', 'Ghost', 'Ghoul', 'Ghost', 'Ghost', 'Ghoul', 'Ghoul',\n",
       "       'Ghoul', 'Ghoul', 'Ghost', 'Ghoul', 'Goblin', 'Ghoul', 'Goblin',\n",
       "       'Ghoul', 'Ghoul', 'Ghoul', 'Ghoul', 'Ghoul', 'Goblin', 'Goblin',\n",
       "       'Ghoul', 'Ghost', 'Ghoul', 'Ghost', 'Ghoul', 'Goblin', 'Ghoul',\n",
       "       'Ghoul', 'Ghoul', 'Goblin', 'Ghoul', 'Ghoul', 'Ghoul', 'Ghoul',\n",
       "       'Goblin', 'Goblin', 'Ghoul', 'Ghost', 'Goblin', 'Goblin', 'Ghost',\n",
       "       'Goblin', 'Ghoul', 'Ghoul', 'Ghost', 'Ghoul', 'Ghoul', 'Ghost',\n",
       "       'Goblin', 'Ghoul', 'Ghoul', 'Ghoul', 'Ghoul', 'Ghost', 'Ghoul',\n",
       "       'Ghost', 'Ghost', 'Ghoul', 'Ghoul', 'Goblin', 'Ghoul', 'Ghoul',\n",
       "       'Goblin', 'Ghost', 'Goblin', 'Ghost', 'Goblin', 'Ghoul', 'Ghoul',\n",
       "       'Ghost', 'Ghost', 'Ghost', 'Goblin', 'Ghost', 'Ghost', 'Ghost',\n",
       "       'Ghost', 'Ghoul', 'Goblin', 'Ghost', 'Ghost', 'Ghost', 'Goblin',\n",
       "       'Goblin', 'Goblin', 'Ghoul', 'Goblin', 'Ghoul', 'Ghost', 'Ghoul',\n",
       "       'Ghoul', 'Ghoul', 'Ghost', 'Ghoul', 'Ghoul', 'Ghost', 'Goblin',\n",
       "       'Goblin', 'Ghoul', 'Ghoul', 'Ghost', 'Goblin', 'Goblin', 'Ghoul',\n",
       "       'Ghost', 'Ghoul', 'Ghost', 'Ghost', 'Ghoul', 'Ghoul', 'Ghost',\n",
       "       'Ghost', 'Ghost', 'Ghoul', 'Ghoul', 'Ghost', 'Goblin', 'Goblin',\n",
       "       'Ghoul', 'Ghost', 'Ghoul', 'Ghoul', 'Ghoul', 'Goblin', 'Ghost',\n",
       "       'Ghoul', 'Ghost', 'Ghost', 'Ghoul', 'Ghoul', 'Ghost', 'Ghoul',\n",
       "       'Ghost', 'Ghost', 'Ghost', 'Ghoul', 'Ghoul', 'Ghoul', 'Goblin',\n",
       "       'Goblin', 'Ghost', 'Ghoul', 'Ghoul', 'Ghost', 'Ghoul', 'Ghoul',\n",
       "       'Ghoul', 'Ghoul', 'Goblin', 'Ghost', 'Ghost', 'Goblin', 'Ghost',\n",
       "       'Goblin', 'Ghost', 'Ghost', 'Ghoul', 'Ghost', 'Ghoul', 'Ghoul',\n",
       "       'Ghoul', 'Ghost', 'Ghoul', 'Ghoul', 'Ghoul', 'Ghost', 'Ghost',\n",
       "       'Ghoul', 'Ghost', 'Ghost', 'Goblin', 'Goblin', 'Ghoul', 'Ghoul',\n",
       "       'Ghost', 'Ghost', 'Ghoul', 'Goblin', 'Ghost', 'Ghoul', 'Ghoul',\n",
       "       'Goblin', 'Goblin', 'Ghoul', 'Ghoul', 'Ghost', 'Ghost', 'Ghost',\n",
       "       'Ghost', 'Ghoul', 'Ghost', 'Goblin', 'Goblin', 'Goblin', 'Ghoul',\n",
       "       'Goblin', 'Ghost', 'Ghost', 'Ghost', 'Goblin', 'Ghost', 'Ghoul',\n",
       "       'Ghost', 'Ghoul', 'Goblin', 'Goblin', 'Goblin', 'Goblin', 'Ghoul',\n",
       "       'Ghoul', 'Goblin', 'Ghost', 'Ghost', 'Goblin', 'Ghost', 'Goblin',\n",
       "       'Goblin', 'Ghost', 'Ghost', 'Ghost', 'Ghoul', 'Ghost', 'Ghoul',\n",
       "       'Ghoul', 'Ghoul', 'Ghost', 'Ghost', 'Ghost', 'Ghost', 'Goblin',\n",
       "       'Ghost', 'Goblin', 'Ghost', 'Ghost', 'Goblin', 'Ghost', 'Ghost',\n",
       "       'Ghost', 'Ghost', 'Ghoul', 'Ghoul', 'Ghost', 'Ghoul', 'Goblin',\n",
       "       'Ghost', 'Ghost', 'Goblin', 'Ghost', 'Ghoul', 'Goblin', 'Ghoul',\n",
       "       'Ghoul', 'Ghoul', 'Ghost', 'Ghost', 'Ghoul', 'Goblin', 'Ghost',\n",
       "       'Goblin', 'Ghoul', 'Ghoul', 'Goblin', 'Ghoul', 'Goblin', 'Ghost',\n",
       "       'Ghost', 'Goblin', 'Ghoul', 'Ghoul', 'Ghoul', 'Goblin', 'Ghost',\n",
       "       'Ghoul', 'Ghost', 'Ghost', 'Ghoul', 'Ghost', 'Ghoul', 'Ghoul',\n",
       "       'Goblin', 'Ghoul', 'Ghost', 'Goblin', 'Ghost', 'Ghoul', 'Goblin',\n",
       "       'Goblin', 'Ghost', 'Ghost', 'Ghoul', 'Ghoul', 'Ghoul', 'Goblin',\n",
       "       'Ghost', 'Ghoul', 'Ghoul', 'Ghoul', 'Goblin', 'Ghost', 'Ghost',\n",
       "       'Ghoul', 'Goblin', 'Ghost', 'Ghost', 'Ghoul', 'Ghost', 'Ghost',\n",
       "       'Ghoul', 'Goblin', 'Ghost', 'Goblin', 'Ghost', 'Goblin', 'Ghost',\n",
       "       'Ghoul', 'Ghoul', 'Ghoul', 'Goblin', 'Ghost', 'Ghost', 'Ghoul',\n",
       "       'Ghost', 'Ghoul', 'Ghoul', 'Ghoul', 'Ghoul', 'Goblin', 'Ghoul',\n",
       "       'Goblin', 'Ghost', 'Goblin', 'Ghost', 'Ghoul', 'Ghost', 'Ghoul',\n",
       "       'Ghoul', 'Ghost', 'Ghoul', 'Ghost', 'Ghoul', 'Ghoul', 'Ghoul',\n",
       "       'Ghost', 'Ghost', 'Ghoul', 'Goblin', 'Ghost', 'Ghost', 'Ghost',\n",
       "       'Ghost', 'Ghoul', 'Ghoul', 'Ghoul', 'Goblin', 'Ghoul', 'Ghost',\n",
       "       'Ghost', 'Ghoul', 'Ghost', 'Goblin', 'Ghost', 'Ghoul', 'Goblin',\n",
       "       'Goblin', 'Ghoul', 'Ghoul', 'Ghost', 'Ghost', 'Goblin', 'Goblin',\n",
       "       'Ghost', 'Ghost', 'Ghost', 'Goblin', 'Ghost', 'Ghoul', 'Ghoul',\n",
       "       'Ghost', 'Goblin', 'Ghost', 'Ghoul', 'Ghoul', 'Goblin', 'Ghost',\n",
       "       'Ghoul', 'Goblin', 'Ghoul', 'Goblin', 'Ghoul', 'Ghost', 'Ghoul',\n",
       "       'Ghoul', 'Ghost', 'Ghoul', 'Ghost', 'Ghost', 'Goblin', 'Ghoul',\n",
       "       'Ghost', 'Ghoul', 'Ghost', 'Goblin', 'Ghoul', 'Goblin', 'Ghost',\n",
       "       'Ghost', 'Ghoul', 'Ghoul', 'Goblin', 'Ghost', 'Ghost', 'Ghoul',\n",
       "       'Goblin', 'Ghoul', 'Ghost', 'Goblin', 'Ghoul', 'Ghoul', 'Ghoul',\n",
       "       'Goblin', 'Ghoul', 'Goblin', 'Ghost', 'Goblin', 'Ghost', 'Ghoul',\n",
       "       'Ghoul', 'Ghost', 'Ghost', 'Ghost', 'Ghoul', 'Ghost', 'Goblin',\n",
       "       'Goblin', 'Ghoul', 'Ghoul', 'Ghoul', 'Ghoul', 'Goblin', 'Goblin',\n",
       "       'Ghost', 'Goblin', 'Ghost', 'Ghoul', 'Ghoul', 'Ghost', 'Ghost',\n",
       "       'Ghoul', 'Ghoul', 'Goblin', 'Ghoul', 'Ghost', 'Ghoul', 'Ghoul',\n",
       "       'Ghost', 'Ghoul', 'Ghoul', 'Goblin', 'Ghoul', 'Ghost', 'Ghost',\n",
       "       'Goblin', 'Ghost', 'Ghost', 'Goblin', 'Ghoul', 'Ghoul', 'Ghost',\n",
       "       'Goblin', 'Ghost', 'Goblin', 'Ghost', 'Ghost', 'Ghost', 'Ghoul',\n",
       "       'Ghost', 'Ghoul', 'Ghoul', 'Ghost', 'Ghoul', 'Ghost', 'Ghoul',\n",
       "       'Ghoul', 'Ghoul', 'Ghost', 'Goblin', 'Ghost', 'Ghost', 'Ghoul',\n",
       "       'Ghoul', 'Goblin', 'Ghoul', 'Ghost', 'Ghoul', 'Goblin', 'Ghoul',\n",
       "       'Ghoul', 'Ghost', 'Ghost', 'Ghoul', 'Ghoul', 'Ghoul', 'Goblin',\n",
       "       'Goblin', 'Ghost', 'Ghoul', 'Ghoul', 'Ghoul', 'Ghoul', 'Goblin',\n",
       "       'Ghost', 'Ghoul', 'Ghost', 'Ghost'], dtype=object)"
      ]
     },
     "execution_count": 15,
     "metadata": {},
     "output_type": "execute_result"
    }
   ],
   "source": [
    "X_test=data_test[[\"bone_length\",\"rotting_flesh\",\"hair_length\",\"has_soul\",\"Indicator_blue\",\"Indicator_clear\",\"Indicator_black\",\"Indicator_blood\",\"Indicator_green\",\"Indicator_white\"]]\n",
    "\n",
    "clf.predict(X_test)"
   ]
  },
  {
   "cell_type": "code",
   "execution_count": 16,
   "metadata": {},
   "outputs": [
    {
     "data": {
      "text/html": [
       "<div>\n",
       "<style scoped>\n",
       "    .dataframe tbody tr th:only-of-type {\n",
       "        vertical-align: middle;\n",
       "    }\n",
       "\n",
       "    .dataframe tbody tr th {\n",
       "        vertical-align: top;\n",
       "    }\n",
       "\n",
       "    .dataframe thead th {\n",
       "        text-align: right;\n",
       "    }\n",
       "</style>\n",
       "<table border=\"1\" class=\"dataframe\">\n",
       "  <thead>\n",
       "    <tr style=\"text-align: right;\">\n",
       "      <th></th>\n",
       "      <th>bone_length</th>\n",
       "      <th>rotting_flesh</th>\n",
       "      <th>hair_length</th>\n",
       "      <th>has_soul</th>\n",
       "      <th>Indicator_blue</th>\n",
       "      <th>Indicator_clear</th>\n",
       "      <th>Indicator_black</th>\n",
       "      <th>Indicator_blood</th>\n",
       "      <th>Indicator_green</th>\n",
       "      <th>Indicator_white</th>\n",
       "    </tr>\n",
       "  </thead>\n",
       "  <tbody>\n",
       "    <tr>\n",
       "      <th>bone_length</th>\n",
       "      <td>1.000000</td>\n",
       "      <td>-0.041716</td>\n",
       "      <td>0.353881</td>\n",
       "      <td>0.381675</td>\n",
       "      <td>0.083212</td>\n",
       "      <td>-0.041600</td>\n",
       "      <td>0.036206</td>\n",
       "      <td>-0.042314</td>\n",
       "      <td>0.036764</td>\n",
       "      <td>-0.029831</td>\n",
       "    </tr>\n",
       "    <tr>\n",
       "      <th>rotting_flesh</th>\n",
       "      <td>-0.041716</td>\n",
       "      <td>1.000000</td>\n",
       "      <td>-0.220353</td>\n",
       "      <td>-0.132051</td>\n",
       "      <td>0.067218</td>\n",
       "      <td>-0.130895</td>\n",
       "      <td>0.076409</td>\n",
       "      <td>0.030361</td>\n",
       "      <td>0.012733</td>\n",
       "      <td>0.027047</td>\n",
       "    </tr>\n",
       "    <tr>\n",
       "      <th>hair_length</th>\n",
       "      <td>0.353881</td>\n",
       "      <td>-0.220353</td>\n",
       "      <td>1.000000</td>\n",
       "      <td>0.474835</td>\n",
       "      <td>-0.092289</td>\n",
       "      <td>0.111772</td>\n",
       "      <td>-0.023958</td>\n",
       "      <td>-0.031920</td>\n",
       "      <td>0.006113</td>\n",
       "      <td>-0.042936</td>\n",
       "    </tr>\n",
       "    <tr>\n",
       "      <th>has_soul</th>\n",
       "      <td>0.381675</td>\n",
       "      <td>-0.132051</td>\n",
       "      <td>0.474835</td>\n",
       "      <td>1.000000</td>\n",
       "      <td>0.071343</td>\n",
       "      <td>0.058060</td>\n",
       "      <td>-0.026948</td>\n",
       "      <td>0.006069</td>\n",
       "      <td>-0.070514</td>\n",
       "      <td>-0.027287</td>\n",
       "    </tr>\n",
       "    <tr>\n",
       "      <th>Indicator_blue</th>\n",
       "      <td>0.083212</td>\n",
       "      <td>0.067218</td>\n",
       "      <td>-0.092289</td>\n",
       "      <td>0.071343</td>\n",
       "      <td>1.000000</td>\n",
       "      <td>-0.160642</td>\n",
       "      <td>-0.081892</td>\n",
       "      <td>-0.042477</td>\n",
       "      <td>-0.083010</td>\n",
       "      <td>-0.177770</td>\n",
       "    </tr>\n",
       "    <tr>\n",
       "      <th>Indicator_clear</th>\n",
       "      <td>-0.041600</td>\n",
       "      <td>-0.130895</td>\n",
       "      <td>0.111772</td>\n",
       "      <td>0.058060</td>\n",
       "      <td>-0.160642</td>\n",
       "      <td>1.000000</td>\n",
       "      <td>-0.243719</td>\n",
       "      <td>-0.126415</td>\n",
       "      <td>-0.247047</td>\n",
       "      <td>-0.529061</td>\n",
       "    </tr>\n",
       "    <tr>\n",
       "      <th>Indicator_black</th>\n",
       "      <td>0.036206</td>\n",
       "      <td>0.076409</td>\n",
       "      <td>-0.023958</td>\n",
       "      <td>-0.026948</td>\n",
       "      <td>-0.081892</td>\n",
       "      <td>-0.243719</td>\n",
       "      <td>1.000000</td>\n",
       "      <td>-0.064443</td>\n",
       "      <td>-0.125939</td>\n",
       "      <td>-0.269704</td>\n",
       "    </tr>\n",
       "    <tr>\n",
       "      <th>Indicator_blood</th>\n",
       "      <td>-0.042314</td>\n",
       "      <td>0.030361</td>\n",
       "      <td>-0.031920</td>\n",
       "      <td>0.006069</td>\n",
       "      <td>-0.042477</td>\n",
       "      <td>-0.126415</td>\n",
       "      <td>-0.064443</td>\n",
       "      <td>1.000000</td>\n",
       "      <td>-0.065324</td>\n",
       "      <td>-0.139893</td>\n",
       "    </tr>\n",
       "    <tr>\n",
       "      <th>Indicator_green</th>\n",
       "      <td>0.036764</td>\n",
       "      <td>0.012733</td>\n",
       "      <td>0.006113</td>\n",
       "      <td>-0.070514</td>\n",
       "      <td>-0.083010</td>\n",
       "      <td>-0.247047</td>\n",
       "      <td>-0.125939</td>\n",
       "      <td>-0.065324</td>\n",
       "      <td>1.000000</td>\n",
       "      <td>-0.273388</td>\n",
       "    </tr>\n",
       "    <tr>\n",
       "      <th>Indicator_white</th>\n",
       "      <td>-0.029831</td>\n",
       "      <td>0.027047</td>\n",
       "      <td>-0.042936</td>\n",
       "      <td>-0.027287</td>\n",
       "      <td>-0.177770</td>\n",
       "      <td>-0.529061</td>\n",
       "      <td>-0.269704</td>\n",
       "      <td>-0.139893</td>\n",
       "      <td>-0.273388</td>\n",
       "      <td>1.000000</td>\n",
       "    </tr>\n",
       "  </tbody>\n",
       "</table>\n",
       "</div>"
      ],
      "text/plain": [
       "                 bone_length  rotting_flesh  hair_length  has_soul  \\\n",
       "bone_length         1.000000      -0.041716     0.353881  0.381675   \n",
       "rotting_flesh      -0.041716       1.000000    -0.220353 -0.132051   \n",
       "hair_length         0.353881      -0.220353     1.000000  0.474835   \n",
       "has_soul            0.381675      -0.132051     0.474835  1.000000   \n",
       "Indicator_blue      0.083212       0.067218    -0.092289  0.071343   \n",
       "Indicator_clear    -0.041600      -0.130895     0.111772  0.058060   \n",
       "Indicator_black     0.036206       0.076409    -0.023958 -0.026948   \n",
       "Indicator_blood    -0.042314       0.030361    -0.031920  0.006069   \n",
       "Indicator_green     0.036764       0.012733     0.006113 -0.070514   \n",
       "Indicator_white    -0.029831       0.027047    -0.042936 -0.027287   \n",
       "\n",
       "                 Indicator_blue  Indicator_clear  Indicator_black  \\\n",
       "bone_length            0.083212        -0.041600         0.036206   \n",
       "rotting_flesh          0.067218        -0.130895         0.076409   \n",
       "hair_length           -0.092289         0.111772        -0.023958   \n",
       "has_soul               0.071343         0.058060        -0.026948   \n",
       "Indicator_blue         1.000000        -0.160642        -0.081892   \n",
       "Indicator_clear       -0.160642         1.000000        -0.243719   \n",
       "Indicator_black       -0.081892        -0.243719         1.000000   \n",
       "Indicator_blood       -0.042477        -0.126415        -0.064443   \n",
       "Indicator_green       -0.083010        -0.247047        -0.125939   \n",
       "Indicator_white       -0.177770        -0.529061        -0.269704   \n",
       "\n",
       "                 Indicator_blood  Indicator_green  Indicator_white  \n",
       "bone_length            -0.042314         0.036764        -0.029831  \n",
       "rotting_flesh           0.030361         0.012733         0.027047  \n",
       "hair_length            -0.031920         0.006113        -0.042936  \n",
       "has_soul                0.006069        -0.070514        -0.027287  \n",
       "Indicator_blue         -0.042477        -0.083010        -0.177770  \n",
       "Indicator_clear        -0.126415        -0.247047        -0.529061  \n",
       "Indicator_black        -0.064443        -0.125939        -0.269704  \n",
       "Indicator_blood         1.000000        -0.065324        -0.139893  \n",
       "Indicator_green        -0.065324         1.000000        -0.273388  \n",
       "Indicator_white        -0.139893        -0.273388         1.000000  "
      ]
     },
     "execution_count": 16,
     "metadata": {},
     "output_type": "execute_result"
    }
   ],
   "source": [
    "## Finding correlations in independent variables\n",
    "X.corr()\n",
    "\n",
    "### When bone length is more, hair length is also more\n",
    "### hair length and rotting flesh are negavitly correlated"
   ]
  },
  {
   "cell_type": "code",
   "execution_count": null,
   "metadata": {},
   "outputs": [],
   "source": []
  },
  {
   "cell_type": "code",
   "execution_count": 13,
   "metadata": {},
   "outputs": [],
   "source": [
    "\n"
   ]
  },
  {
   "cell_type": "code",
   "execution_count": null,
   "metadata": {},
   "outputs": [],
   "source": []
  },
  {
   "cell_type": "code",
   "execution_count": null,
   "metadata": {},
   "outputs": [],
   "source": []
  },
  {
   "cell_type": "code",
   "execution_count": 17,
   "metadata": {},
   "outputs": [],
   "source": [
    "import matplotlib.pyplot as plt\n",
    "import numpy as np"
   ]
  },
  {
   "cell_type": "code",
   "execution_count": 18,
   "metadata": {},
   "outputs": [
    {
     "data": {
      "image/png": "[encoded data removed]",
      "text/plain": [
       "<Figure size 432x288 with 1 Axes>"
      ]
     },
     "metadata": {
      "needs_background": "light"
     },
     "output_type": "display_data"
    }
   ],
   "source": [
    "\n",
    "fig, ax = plt.subplots()\n",
    "colors = {'Ghoul':'red', 'Goblin':'green', 'Ghost':'blue'}\n",
    "\n",
    "\n",
    "ax.scatter(data['bone_length'], data['rotting_flesh'], c=data['type'].map(colors))\n",
    "\n",
    "plt.show()"
   ]
  },
  {
   "cell_type": "code",
   "execution_count": 19,
   "metadata": {},
   "outputs": [
    {
     "data": {
      "text/plain": [
       "<matplotlib.axes._subplots.AxesSubplot at 0x23229c5d6c8>"
      ]
     },
     "execution_count": 19,
     "metadata": {},
     "output_type": "execute_result"
    },
    {
     "data": {
      "image/png": "[encoded data removed]",
      "text/plain": [
       "<Figure size 792x648 with 2 Axes>"
      ]
     },
     "metadata": {
      "needs_background": "light"
     },
     "output_type": "display_data"
    }
   ],
   "source": [
    "\n",
    "############\n",
    "#Seaborn\n",
    "################\n",
    "\n",
    "import seaborn as sns\n",
    "import matplotlib.pyplot as plt\n",
    "import numpy as np\n",
    "\n",
    "corr=X.corr()\n",
    "# Generate a mask for the upper triangle\n",
    "mask = np.triu(np.ones_like(corr, dtype=bool))\n",
    "\n",
    "# Set up the matplotlib figure\n",
    "f, ax = plt.subplots(figsize=(11, 9))\n",
    "\n",
    "# Generate a custom diverging colormap\n",
    "cmap = sns.diverging_palette(230, 20, as_cmap=True)\n",
    "\n",
    "# Draw the heatmap with the mask and correct aspect ratio\n",
    "sns.heatmap(corr, mask=mask, cmap=cmap, vmax=.3, center=0,\n",
    "            square=True, linewidths=.5, cbar_kws={\"shrink\": .5})"
   ]
  },
  {
   "cell_type": "code",
   "execution_count": 24,
   "metadata": {},
   "outputs": [],
   "source": [
    "from numpy import savetxt\n",
    "preds=clf.predict(X_test)\n",
    "savetxt('C:\\\\Users\\\\shwet\\\\OneDrive\\\\Documents\\\\OnlineCourses\\\\insaid\\\\ghouls-goblins-and-ghosts-boo\\\\test.csv\\\\test.csv',preds,fmt='%s',delimiter='\\n')"
   ]
  },
  {
   "cell_type": "code",
   "execution_count": null,
   "metadata": {},
   "outputs": [],
   "source": []
  }
 ],
 "metadata": {
  "kernelspec": {
   "display_name": "Python 3",
   "language": "python",
   "name": "python3"
  },
  "language_info": {
   "codemirror_mode": {
    "name": "ipython",
    "version": 3
   },
   "file_extension": ".py",
   "mimetype": "text/x-python",
   "name": "python",
   "nbconvert_exporter": "python",
   "pygments_lexer": "ipython3",
   "version": "3.7.4"
  }
 },
 "nbformat": 4,
 "nbformat_minor": 2
}
